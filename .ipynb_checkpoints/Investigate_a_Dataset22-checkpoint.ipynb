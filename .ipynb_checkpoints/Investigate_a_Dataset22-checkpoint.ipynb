{
 "cells": [
  {
   "cell_type": "markdown",
   "metadata": {},
   "source": [
    "# RONALD MULYOWA   \n",
    "# (12/5/2020) \n",
    "\n",
    "# Project: Investigate  A No-show appointments dataset\n",
    "\n",
    "## Table of Contents\n",
    "<ul>\n",
    "<li><a href=\"#intro\">Introduction</a></li>\n",
    "<li><a href=\"#wrangling\">Data Wrangling</a></li>\n",
    "<li><a href=\"#eda\">Exploratory Data Analysis</a></li>\n",
    "<li><a href=\"#conclusions\">Conclusions</a></li>\n",
    "\n",
    "</ul>"
   ]
  },
  {
   "cell_type": "markdown",
   "metadata": {},
   "source": [
    "<a id='intro'></a>\n",
    "## Introduction\n",
    "\n",
    "> In this project, I will be Analyzing a No-show appointments Kaggle dataset. The dataset contains collected information from 100k medical appointments in Brazil. Patients make appointments with doctors, they follow all the instructions given to them, and don't show up.   The main objective is to find the factors which influence patient showing up and not showing up for their scheduled appointments \n",
    "\n",
    "\n",
    "> The original problem is from https://www.kaggle.com/joniarroba/noshowappointments/home\n",
    "\n",
    "####  The questions I am trying to analyze are:\n",
    "> What gender is associated with most absenteesim? <br />\n",
    "\n",
    "> Which disease category is associated with the most absenteeism? <br />"
   ]
  },
  {
   "cell_type": "code",
   "execution_count": 23,
   "metadata": {
    "collapsed": false
   },
   "outputs": [],
   "source": [
    "# Use this cell to set up import statements for all of the packages that you\n",
    "import pandas as pd\n",
    "import matplotlib.pyplot as plt\n",
    "import seaborn as sns\n",
    "%matplotlib inline\n",
    "sns.set()\n",
    "\n"
   ]
  },
  {
   "cell_type": "markdown",
   "metadata": {},
   "source": [
    "<a id='wrangling'></a>\n",
    "## Data Wrangling\n",
    "\n",
    "> **Tip**: In this section of the report, you will load in the data, check for cleanliness, and then trim and clean your dataset for analysis. Make sure that you document your steps carefully and justify your cleaning decisions.\n",
    "\n",
    "### General Properties"
   ]
  },
  {
   "cell_type": "code",
   "execution_count": 24,
   "metadata": {
    "collapsed": false
   },
   "outputs": [],
   "source": [
    "# Load your data and print out a few lines. Perform operations to inspect data\n",
    "\n",
    "med_df = pd.read_csv('KaggleV2-May-2016.csv')\n"
   ]
  },
  {
   "cell_type": "code",
   "execution_count": 25,
   "metadata": {
    "collapsed": false
   },
   "outputs": [
    {
     "data": {
      "text/html": [
       "<div>\n",
       "<style scoped>\n",
       "    .dataframe tbody tr th:only-of-type {\n",
       "        vertical-align: middle;\n",
       "    }\n",
       "\n",
       "    .dataframe tbody tr th {\n",
       "        vertical-align: top;\n",
       "    }\n",
       "\n",
       "    .dataframe thead th {\n",
       "        text-align: right;\n",
       "    }\n",
       "</style>\n",
       "<table border=\"1\" class=\"dataframe\">\n",
       "  <thead>\n",
       "    <tr style=\"text-align: right;\">\n",
       "      <th></th>\n",
       "      <th>PatientId</th>\n",
       "      <th>AppointmentID</th>\n",
       "      <th>Gender</th>\n",
       "      <th>ScheduledDay</th>\n",
       "      <th>AppointmentDay</th>\n",
       "      <th>Age</th>\n",
       "      <th>Neighbourhood</th>\n",
       "      <th>Scholarship</th>\n",
       "      <th>Hipertension</th>\n",
       "      <th>Diabetes</th>\n",
       "      <th>Alcoholism</th>\n",
       "      <th>Handcap</th>\n",
       "      <th>SMS_received</th>\n",
       "      <th>No-show</th>\n",
       "    </tr>\n",
       "  </thead>\n",
       "  <tbody>\n",
       "    <tr>\n",
       "      <th>0</th>\n",
       "      <td>2.987250e+13</td>\n",
       "      <td>5642903</td>\n",
       "      <td>F</td>\n",
       "      <td>2016-04-29T18:38:08Z</td>\n",
       "      <td>2016-04-29T00:00:00Z</td>\n",
       "      <td>62</td>\n",
       "      <td>JARDIM DA PENHA</td>\n",
       "      <td>0</td>\n",
       "      <td>1</td>\n",
       "      <td>0</td>\n",
       "      <td>0</td>\n",
       "      <td>0</td>\n",
       "      <td>0</td>\n",
       "      <td>No</td>\n",
       "    </tr>\n",
       "    <tr>\n",
       "      <th>1</th>\n",
       "      <td>5.589978e+14</td>\n",
       "      <td>5642503</td>\n",
       "      <td>M</td>\n",
       "      <td>2016-04-29T16:08:27Z</td>\n",
       "      <td>2016-04-29T00:00:00Z</td>\n",
       "      <td>56</td>\n",
       "      <td>JARDIM DA PENHA</td>\n",
       "      <td>0</td>\n",
       "      <td>0</td>\n",
       "      <td>0</td>\n",
       "      <td>0</td>\n",
       "      <td>0</td>\n",
       "      <td>0</td>\n",
       "      <td>No</td>\n",
       "    </tr>\n",
       "    <tr>\n",
       "      <th>2</th>\n",
       "      <td>4.262962e+12</td>\n",
       "      <td>5642549</td>\n",
       "      <td>F</td>\n",
       "      <td>2016-04-29T16:19:04Z</td>\n",
       "      <td>2016-04-29T00:00:00Z</td>\n",
       "      <td>62</td>\n",
       "      <td>MATA DA PRAIA</td>\n",
       "      <td>0</td>\n",
       "      <td>0</td>\n",
       "      <td>0</td>\n",
       "      <td>0</td>\n",
       "      <td>0</td>\n",
       "      <td>0</td>\n",
       "      <td>No</td>\n",
       "    </tr>\n",
       "    <tr>\n",
       "      <th>3</th>\n",
       "      <td>8.679512e+11</td>\n",
       "      <td>5642828</td>\n",
       "      <td>F</td>\n",
       "      <td>2016-04-29T17:29:31Z</td>\n",
       "      <td>2016-04-29T00:00:00Z</td>\n",
       "      <td>8</td>\n",
       "      <td>PONTAL DE CAMBURI</td>\n",
       "      <td>0</td>\n",
       "      <td>0</td>\n",
       "      <td>0</td>\n",
       "      <td>0</td>\n",
       "      <td>0</td>\n",
       "      <td>0</td>\n",
       "      <td>No</td>\n",
       "    </tr>\n",
       "    <tr>\n",
       "      <th>4</th>\n",
       "      <td>8.841186e+12</td>\n",
       "      <td>5642494</td>\n",
       "      <td>F</td>\n",
       "      <td>2016-04-29T16:07:23Z</td>\n",
       "      <td>2016-04-29T00:00:00Z</td>\n",
       "      <td>56</td>\n",
       "      <td>JARDIM DA PENHA</td>\n",
       "      <td>0</td>\n",
       "      <td>1</td>\n",
       "      <td>1</td>\n",
       "      <td>0</td>\n",
       "      <td>0</td>\n",
       "      <td>0</td>\n",
       "      <td>No</td>\n",
       "    </tr>\n",
       "  </tbody>\n",
       "</table>\n",
       "</div>"
      ],
      "text/plain": [
       "      PatientId  AppointmentID Gender          ScheduledDay  \\\n",
       "0  2.987250e+13        5642903      F  2016-04-29T18:38:08Z   \n",
       "1  5.589978e+14        5642503      M  2016-04-29T16:08:27Z   \n",
       "2  4.262962e+12        5642549      F  2016-04-29T16:19:04Z   \n",
       "3  8.679512e+11        5642828      F  2016-04-29T17:29:31Z   \n",
       "4  8.841186e+12        5642494      F  2016-04-29T16:07:23Z   \n",
       "\n",
       "         AppointmentDay  Age      Neighbourhood  Scholarship  Hipertension  \\\n",
       "0  2016-04-29T00:00:00Z   62    JARDIM DA PENHA            0             1   \n",
       "1  2016-04-29T00:00:00Z   56    JARDIM DA PENHA            0             0   \n",
       "2  2016-04-29T00:00:00Z   62      MATA DA PRAIA            0             0   \n",
       "3  2016-04-29T00:00:00Z    8  PONTAL DE CAMBURI            0             0   \n",
       "4  2016-04-29T00:00:00Z   56    JARDIM DA PENHA            0             1   \n",
       "\n",
       "   Diabetes  Alcoholism  Handcap  SMS_received No-show  \n",
       "0         0           0        0             0      No  \n",
       "1         0           0        0             0      No  \n",
       "2         0           0        0             0      No  \n",
       "3         0           0        0             0      No  \n",
       "4         1           0        0             0      No  "
      ]
     },
     "execution_count": 25,
     "metadata": {},
     "output_type": "execute_result"
    }
   ],
   "source": [
    "# getting first five columns of data\n",
    "med_df.head()"
   ]
  },
  {
   "cell_type": "code",
   "execution_count": 26,
   "metadata": {
    "collapsed": false
   },
   "outputs": [
    {
     "data": {
      "text/plain": [
       "(110527, 14)"
      ]
     },
     "execution_count": 26,
     "metadata": {},
     "output_type": "execute_result"
    }
   ],
   "source": [
    "# viewing the number of columns and rows in the dataset\n",
    "med_df.shape"
   ]
  },
  {
   "cell_type": "code",
   "execution_count": null,
   "metadata": {
    "collapsed": false
   },
   "outputs": [],
   "source": []
  },
  {
   "cell_type": "code",
   "execution_count": 27,
   "metadata": {
    "collapsed": false
   },
   "outputs": [],
   "source": [
    "# Renaming columns to\n",
    "med_df.rename(columns={'PatientId':'patient_id', 'AppointmentID':'appointment_id', 'Gender':'gender', 'ScheduledDay':'scheduled_day', 'AppointmentDay':'appointment_day', 'Age':'age', 'Neighbourhood':'neighbourhood', 'Scholarship':'scholarship', 'Hipertension':'hypertension', 'Diabetes':'diabetes', 'Alcoholism':'alcoholism', 'Handcap':'handcap', 'SMS_received':'sms_received', 'No-show':'no_show'},inplace=True)"
   ]
  },
  {
   "cell_type": "code",
   "execution_count": 28,
   "metadata": {
    "collapsed": false
   },
   "outputs": [
    {
     "name": "stdout",
     "output_type": "stream",
     "text": [
      "<class 'pandas.core.frame.DataFrame'>\n",
      "RangeIndex: 110527 entries, 0 to 110526\n",
      "Data columns (total 14 columns):\n",
      " #   Column           Non-Null Count   Dtype  \n",
      "---  ------           --------------   -----  \n",
      " 0   patient_id       110527 non-null  float64\n",
      " 1   appointment_id   110527 non-null  int64  \n",
      " 2   gender           110527 non-null  object \n",
      " 3   scheduled_day    110527 non-null  object \n",
      " 4   appointment_day  110527 non-null  object \n",
      " 5   age              110527 non-null  int64  \n",
      " 6   neighbourhood    110527 non-null  object \n",
      " 7   scholarship      110527 non-null  int64  \n",
      " 8   hypertension     110527 non-null  int64  \n",
      " 9   diabetes         110527 non-null  int64  \n",
      " 10  alcoholism       110527 non-null  int64  \n",
      " 11  handcap          110527 non-null  int64  \n",
      " 12  sms_received     110527 non-null  int64  \n",
      " 13  no_show          110527 non-null  object \n",
      "dtypes: float64(1), int64(8), object(5)\n",
      "memory usage: 11.8+ MB\n"
     ]
    }
   ],
   "source": [
    "med_df.info()\n",
    "\n"
   ]
  },
  {
   "cell_type": "code",
   "execution_count": 29,
   "metadata": {
    "collapsed": false
   },
   "outputs": [
    {
     "data": {
      "text/plain": [
       "dtype('int64')"
      ]
     },
     "execution_count": 29,
     "metadata": {},
     "output_type": "execute_result"
    }
   ],
   "source": [
    "# fixing the patient id data type\n",
    "# The patient id is a float but it should be an it\n",
    "med_df['patient_id'] = med_df['patient_id'].astype(int)\n",
    "med_df.patient_id.dtype"
   ]
  },
  {
   "cell_type": "code",
   "execution_count": 30,
   "metadata": {
    "collapsed": false
   },
   "outputs": [
    {
     "data": {
      "text/plain": [
       "37.08887421173107"
      ]
     },
     "execution_count": 30,
     "metadata": {},
     "output_type": "execute_result"
    }
   ],
   "source": [
    "## finding the mean age of patients\n",
    "mean_age = med_df.age.mean()\n",
    "mean_age"
   ]
  },
  {
   "cell_type": "code",
   "execution_count": 31,
   "metadata": {
    "collapsed": false
   },
   "outputs": [
    {
     "data": {
      "text/plain": [
       "gender\n",
       "F    38.893987\n",
       "M    33.736863\n",
       "Name: age, dtype: float64"
      ]
     },
     "execution_count": 31,
     "metadata": {},
     "output_type": "execute_result"
    }
   ],
   "source": [
    "## finding the mean age by gender\n",
    "\n",
    "med_df.groupby('gender').age.mean()"
   ]
  },
  {
   "cell_type": "code",
   "execution_count": 32,
   "metadata": {
    "collapsed": false
   },
   "outputs": [
    {
     "data": {
      "text/plain": [
       "0"
      ]
     },
     "execution_count": 32,
     "metadata": {},
     "output_type": "execute_result"
    }
   ],
   "source": [
    "# Checking  for duplicates\n",
    "sum(med_df.duplicated())\n"
   ]
  },
  {
   "cell_type": "code",
   "execution_count": 33,
   "metadata": {
    "collapsed": false
   },
   "outputs": [
    {
     "data": {
      "text/plain": [
       "[]"
      ]
     },
     "execution_count": 33,
     "metadata": {},
     "output_type": "execute_result"
    }
   ],
   "source": [
    "# getting columns with null values\n",
    "med_df.columns[med_df.isnull().any()].tolist()\n"
   ]
  },
  {
   "cell_type": "code",
   "execution_count": null,
   "metadata": {
    "collapsed": false
   },
   "outputs": [],
   "source": []
  },
  {
   "cell_type": "code",
   "execution_count": 34,
   "metadata": {
    "collapsed": false
   },
   "outputs": [
    {
     "data": {
      "image/png": "[encoded data removed]",
      "text/plain": [
       "<Figure size 432x288 with 1 Axes>"
      ]
     },
     "metadata": {},
     "output_type": "display_data"
    }
   ],
   "source": [
    "# Viewing the pecentage of people who attended and those who missed their appointment\n",
    "attended = (med_df['no_show'] =='No').sum()\n",
    "not_attended = (med_df['no_show']=='Yes').sum()\n",
    "\n",
    "# creating a list of the propotions for attendence\n",
    "propotions = [attended, not_attended]\n",
    "\n",
    "\n",
    "# ploting them on the pie chart\n",
    "\n",
    "plt.pie( propotions, \n",
    "        # adding labels\n",
    "        labels = ['Attended Appointment', 'Missed Appointment'],\n",
    "        shadow = False,\n",
    "        \n",
    "        colors = ['blue', 'orange'],\n",
    "        # one slide will explode out\n",
    "        explode = (0.16,0),\n",
    "        startangle = 90,\n",
    "        # listing the percentage\n",
    "        autopct = '%1.1f%%'\n",
    "        \n",
    "     \n",
    ")\n",
    "# view the plot drop\n",
    "plt.axis('equal')\n",
    "\n",
    "plt.title = (\" Attendence Vs Missed appointment\")\n",
    "plt.tight_layout()\n",
    "plt.show()\n"
   ]
  },
  {
   "cell_type": "markdown",
   "metadata": {
    "collapsed": true
   },
   "source": [
    "### Observation\n",
    "> 79.8% of the patients attended their appointment.<br />\n",
    "> 20.2% patients missed their appointments."
   ]
  },
  {
   "cell_type": "code",
   "execution_count": 35,
   "metadata": {
    "collapsed": false
   },
   "outputs": [],
   "source": [
    "# fixing appointment, and schedule day and schedule to timestamp\n",
    "#type(med_df[''][0])\n",
    "med_df[\"appointment_day\"] = pd.to_datetime(med_df[\"appointment_day\"])\n",
    "med_df[\"scheduled_day\"] = pd.to_datetime(med_df[\"scheduled_day\"])\n",
    "\n"
   ]
  },
  {
   "cell_type": "code",
   "execution_count": 36,
   "metadata": {
    "collapsed": false
   },
   "outputs": [],
   "source": [
    "# view how people missed per quarter\n",
    "new_data = med_df.copy()\n",
    "\n",
    "new_data = med_df.set_index('scheduled_day')\n"
   ]
  },
  {
   "cell_type": "code",
   "execution_count": 37,
   "metadata": {
    "collapsed": false
   },
   "outputs": [
    {
     "data": {
      "text/html": [
       "<div>\n",
       "<style scoped>\n",
       "    .dataframe tbody tr th:only-of-type {\n",
       "        vertical-align: middle;\n",
       "    }\n",
       "\n",
       "    .dataframe tbody tr th {\n",
       "        vertical-align: top;\n",
       "    }\n",
       "\n",
       "    .dataframe thead th {\n",
       "        text-align: right;\n",
       "    }\n",
       "</style>\n",
       "<table border=\"1\" class=\"dataframe\">\n",
       "  <thead>\n",
       "    <tr style=\"text-align: right;\">\n",
       "      <th></th>\n",
       "      <th>patient_id</th>\n",
       "      <th>appointment_id</th>\n",
       "      <th>gender</th>\n",
       "      <th>appointment_day</th>\n",
       "      <th>age</th>\n",
       "      <th>neighbourhood</th>\n",
       "      <th>scholarship</th>\n",
       "      <th>hypertension</th>\n",
       "      <th>diabetes</th>\n",
       "      <th>alcoholism</th>\n",
       "      <th>handcap</th>\n",
       "      <th>sms_received</th>\n",
       "      <th>no_show</th>\n",
       "    </tr>\n",
       "    <tr>\n",
       "      <th>scheduled_day</th>\n",
       "      <th></th>\n",
       "      <th></th>\n",
       "      <th></th>\n",
       "      <th></th>\n",
       "      <th></th>\n",
       "      <th></th>\n",
       "      <th></th>\n",
       "      <th></th>\n",
       "      <th></th>\n",
       "      <th></th>\n",
       "      <th></th>\n",
       "      <th></th>\n",
       "      <th></th>\n",
       "    </tr>\n",
       "  </thead>\n",
       "  <tbody>\n",
       "    <tr>\n",
       "      <th>2016-04-29 18:38:08+00:00</th>\n",
       "      <td>29872499824296</td>\n",
       "      <td>5642903</td>\n",
       "      <td>F</td>\n",
       "      <td>2016-04-29 00:00:00+00:00</td>\n",
       "      <td>62</td>\n",
       "      <td>JARDIM DA PENHA</td>\n",
       "      <td>0</td>\n",
       "      <td>1</td>\n",
       "      <td>0</td>\n",
       "      <td>0</td>\n",
       "      <td>0</td>\n",
       "      <td>0</td>\n",
       "      <td>0</td>\n",
       "    </tr>\n",
       "  </tbody>\n",
       "</table>\n",
       "</div>"
      ],
      "text/plain": [
       "                               patient_id  appointment_id gender  \\\n",
       "scheduled_day                                                      \n",
       "2016-04-29 18:38:08+00:00  29872499824296         5642903      F   \n",
       "\n",
       "                                    appointment_day  age    neighbourhood  \\\n",
       "scheduled_day                                                               \n",
       "2016-04-29 18:38:08+00:00 2016-04-29 00:00:00+00:00   62  JARDIM DA PENHA   \n",
       "\n",
       "                           scholarship  hypertension  diabetes  alcoholism  \\\n",
       "scheduled_day                                                                \n",
       "2016-04-29 18:38:08+00:00            0             1         0           0   \n",
       "\n",
       "                           handcap  sms_received  no_show  \n",
       "scheduled_day                                              \n",
       "2016-04-29 18:38:08+00:00        0             0        0  "
      ]
     },
     "execution_count": 37,
     "metadata": {},
     "output_type": "execute_result"
    }
   ],
   "source": [
    "# Grouping the data by quarters to know the performance per quanter\n",
    "# creating a function to convert no_show column data to numbers\n",
    "def change_no_show(x):\n",
    "    if x == 'Yes':\n",
    "        return 1  # This means the patient did not attended, Iam interested in only patients who missed\n",
    "    if x == 'No': # represents patients who attended\n",
    "        return 0\n",
    "    \n",
    "# applying the function to the data column    \n",
    "new_data['no_show'] = new_data['no_show'].apply(change_no_show)    \n",
    "new_data.head(1)\n",
    "\n"
   ]
  },
  {
   "cell_type": "code",
   "execution_count": 38,
   "metadata": {
    "collapsed": false
   },
   "outputs": [],
   "source": [
    "del new_data['patient_id']\n",
    "del new_data['appointment_id']\n",
    "del new_data['appointment_day']"
   ]
  },
  {
   "cell_type": "code",
   "execution_count": 39,
   "metadata": {
    "collapsed": false
   },
   "outputs": [
    {
     "data": {
      "text/html": [
       "<div>\n",
       "<style scoped>\n",
       "    .dataframe tbody tr th:only-of-type {\n",
       "        vertical-align: middle;\n",
       "    }\n",
       "\n",
       "    .dataframe tbody tr th {\n",
       "        vertical-align: top;\n",
       "    }\n",
       "\n",
       "    .dataframe thead th {\n",
       "        text-align: right;\n",
       "    }\n",
       "</style>\n",
       "<table border=\"1\" class=\"dataframe\">\n",
       "  <thead>\n",
       "    <tr style=\"text-align: right;\">\n",
       "      <th></th>\n",
       "      <th>age</th>\n",
       "      <th>scholarship</th>\n",
       "      <th>hypertension</th>\n",
       "      <th>diabetes</th>\n",
       "      <th>alcoholism</th>\n",
       "      <th>handcap</th>\n",
       "      <th>sms_received</th>\n",
       "      <th>no_show</th>\n",
       "    </tr>\n",
       "    <tr>\n",
       "      <th>scheduled_day</th>\n",
       "      <th></th>\n",
       "      <th></th>\n",
       "      <th></th>\n",
       "      <th></th>\n",
       "      <th></th>\n",
       "      <th></th>\n",
       "      <th></th>\n",
       "      <th></th>\n",
       "    </tr>\n",
       "  </thead>\n",
       "  <tbody>\n",
       "    <tr>\n",
       "      <th>2015-12-31 00:00:00+00:00</th>\n",
       "      <td>3919</td>\n",
       "      <td>5</td>\n",
       "      <td>49</td>\n",
       "      <td>9</td>\n",
       "      <td>0</td>\n",
       "      <td>4</td>\n",
       "      <td>43</td>\n",
       "      <td>19</td>\n",
       "    </tr>\n",
       "    <tr>\n",
       "      <th>2016-03-31 00:00:00+00:00</th>\n",
       "      <td>164491</td>\n",
       "      <td>222</td>\n",
       "      <td>729</td>\n",
       "      <td>240</td>\n",
       "      <td>51</td>\n",
       "      <td>70</td>\n",
       "      <td>2441</td>\n",
       "      <td>1296</td>\n",
       "    </tr>\n",
       "    <tr>\n",
       "      <th>2016-06-30 00:00:00+00:00</th>\n",
       "      <td>3930912</td>\n",
       "      <td>10634</td>\n",
       "      <td>21023</td>\n",
       "      <td>7694</td>\n",
       "      <td>3309</td>\n",
       "      <td>2385</td>\n",
       "      <td>32998</td>\n",
       "      <td>21004</td>\n",
       "    </tr>\n",
       "  </tbody>\n",
       "</table>\n",
       "</div>"
      ],
      "text/plain": [
       "                               age  scholarship  hypertension  diabetes  \\\n",
       "scheduled_day                                                             \n",
       "2015-12-31 00:00:00+00:00     3919            5            49         9   \n",
       "2016-03-31 00:00:00+00:00   164491          222           729       240   \n",
       "2016-06-30 00:00:00+00:00  3930912        10634         21023      7694   \n",
       "\n",
       "                           alcoholism  handcap  sms_received  no_show  \n",
       "scheduled_day                                                          \n",
       "2015-12-31 00:00:00+00:00           0        4            43       19  \n",
       "2016-03-31 00:00:00+00:00          51       70          2441     1296  \n",
       "2016-06-30 00:00:00+00:00        3309     2385         32998    21004  "
      ]
     },
     "execution_count": 39,
     "metadata": {},
     "output_type": "execute_result"
    }
   ],
   "source": [
    "# downgrading the data to a quaterly basis\n",
    "#resampling the data to a quaterly basis\n",
    "new_quatery = new_data.resample('Q').sum()\n",
    "\n",
    "new_quatery.tail(10)"
   ]
  },
  {
   "cell_type": "code",
   "execution_count": 40,
   "metadata": {
    "collapsed": false
   },
   "outputs": [
    {
     "data": {
      "image/png": "[encoded data removed]",
      "text/plain": [
       "<Figure size 432x288 with 1 Axes>"
      ]
     },
     "metadata": {},
     "output_type": "display_data"
    }
   ],
   "source": [
    "# create a bar graph for the number of missed appointments per quarter.\n",
    "new_quatery.no_show.plot(kind = 'bar')\n",
    "plt.suptitle('Number of people missed per Quarter')\n",
    "plt.xlabel('Quarter')\n",
    "plt.ylabel('Number of people missed')\n",
    "\n",
    "plt.show()"
   ]
  },
  {
   "cell_type": "markdown",
   "metadata": {
    "collapsed": false
   },
   "source": [
    "## Observation\n",
    "> The data is distributed in three quarters. <br>\n",
    ">  There are no patients who missed their appointments within the first quarter. <br />\n",
    "> Over 20,000 patients missed their appointments in the last quarter\n"
   ]
  },
  {
   "cell_type": "code",
   "execution_count": 41,
   "metadata": {
    "collapsed": false
   },
   "outputs": [],
   "source": [
    "# Getting an insight of missed appointment per month.\n",
    "\n",
    "on_monthly = new_data.resample('M').mean() \n"
   ]
  },
  {
   "cell_type": "code",
   "execution_count": 42,
   "metadata": {
    "collapsed": false
   },
   "outputs": [
    {
     "data": {
      "image/png": "[encoded data removed]",
      "text/plain": [
       "<Figure size 432x288 with 1 Axes>"
      ]
     },
     "metadata": {},
     "output_type": "display_data"
    }
   ],
   "source": [
    "# plotting the graph\n",
    "\n",
    "on_monthly.no_show.plot()\n",
    "plt.suptitle('Missed appointment per Month')\n",
    "plt.xlabel('Month')\n",
    "plt.ylabel('Frequency of Missed appointment')\n",
    "plt.show()"
   ]
  },
  {
   "cell_type": "markdown",
   "metadata": {
    "collapsed": false
   },
   "source": [
    "### Observation\n",
    "> The number of missed appointments increased in the month of december 2015. <br />\n",
    "> The number of missed appointments increased sharply between feb 2016 and march 2016. <br />\n",
    "> March 2016 has the highest number of missed appointments. <br />\n",
    "> There is a sharp decline in the number of patients who missed between  April 2016, and june 2016. <br />"
   ]
  },
  {
   "cell_type": "markdown",
   "metadata": {},
   "source": [
    "<a id='eda'></a>\n",
    "## Exploratory Data Analysis\n",
    "\n",
    "\n",
    "### What gender is associated with most absenteesim?\n",
    "\n"
   ]
  },
  {
   "cell_type": "code",
   "execution_count": 43,
   "metadata": {
    "collapsed": false
   },
   "outputs": [
    {
     "data": {
      "image/png": "[encoded data removed]",
      "text/plain": [
       "<Figure size 432x288 with 1 Axes>"
      ]
     },
     "metadata": {},
     "output_type": "display_data"
    }
   ],
   "source": [
    "# differenting no show by gender and ploting it on a distplot\n",
    "new_frame = new_data.query(\"gender =='F'\")\n",
    "sns.distplot(new_frame['no_show'], hist=False, kde =True, label = 'Female',bins=100)\n",
    "new_frame = new_data.query(\"gender =='M'\")\n",
    "sns.distplot(new_frame['no_show'], hist=False, kde=True, label = 'Male', bins=100)\n",
    "\n",
    "plt.suptitle('Missed appointment per period differiated by gender')\n",
    "plt.xlabel('Missed appointment')\n",
    "plt.ylabel('Density') \n",
    "\n",
    "\n",
    "plt.show()"
   ]
  },
  {
   "cell_type": "markdown",
   "metadata": {},
   "source": [
    "### Observation\n",
    "> Over time the percentage of male patients missing appointments has been exceeding that of the Female patients. <br />\n",
    "> The percentange of female patients who missed is greater than that of their male counter parts.\n",
    "\n"
   ]
  },
  {
   "cell_type": "markdown",
   "metadata": {},
   "source": [
    "### Which disease category is associated with the most  absenteeism?"
   ]
  },
  {
   "cell_type": "code",
   "execution_count": 44,
   "metadata": {
    "collapsed": false
   },
   "outputs": [],
   "source": [
    "# Which disease category is associated with the highest absenteeism\n",
    "hyper = med_df.query(\"(hypertension == 1) & (no_show =='Yes')\").hypertension.value_counts()\n",
    "diabet = med_df.query(\"(diabetes ==1) & (no_show == 'Yes')\").diabetes.value_counts()\n",
    "alcohol = med_df.query(\"(alcoholism == 1) & (no_show == 'Yes')\").alcoholism.value_counts()\n",
    "hand = med_df.query(\"(handcap ==1) & (no_show == 'Yes')\").handcap.value_counts()\n",
    "\n"
   ]
  },
  {
   "cell_type": "code",
   "execution_count": 45,
   "metadata": {
    "collapsed": false
   },
   "outputs": [
    {
     "data": {
      "image/png": "[encoded data removed]",
      "text/plain": [
       "<Figure size 432x288 with 1 Axes>"
      ]
     },
     "metadata": {},
     "output_type": "display_data"
    }
   ],
   "source": [
    "# ploting absenteeism against disease category\n",
    "data = {'disease' : ['Hypertendion','Diabetes','Alcohol','Handcap'],\n",
    "        'number_missed': [3772,1430, 677, 366]}\n",
    "\n",
    "new_data = pd.DataFrame(data, columns=data.keys())\n",
    "\n",
    "locations =[1,2,3,4]\n",
    "labels = ['Hypertendion','Diabetes','Alcohol','Handcap']\n",
    "plt.bar(locations, new_data.number_missed, tick_label = labels, color = ( 0.9 , 0.5 , 0.6 , 0.6 ))\n",
    "plt.suptitle('Missed appointment by disease')\n",
    "plt.xlabel('Disease')\n",
    "plt.ylabel('Number of people missed')\n",
    "plt.show()"
   ]
  },
  {
   "cell_type": "markdown",
   "metadata": {},
   "source": [
    "### Observation\n",
    "> Hypertension has the Most number of people who missed their appointments.<br />\n",
    "> Handcap has the least number of people who missed."
   ]
  },
  {
   "cell_type": "code",
   "execution_count": 46,
   "metadata": {
    "collapsed": false
   },
   "outputs": [],
   "source": [
    "# Attendence by disease category\n",
    "\n",
    "hypert = med_df.query(\"(hypertension == 1) & (no_show =='No')\").hypertension.value_counts()\n",
    "diabett = med_df.query(\"(diabetes ==1) & (no_show == 'No')\").diabetes.value_counts()\n",
    "alcoholt = med_df.query(\"(alcoholism == 1) & (no_show == 'No')\").alcoholism.value_counts()\n",
    "handt = med_df.query(\"(handcap ==1) & (no_show == 'No')\").handcap.value_counts()\n",
    "\n",
    "\n"
   ]
  },
  {
   "cell_type": "code",
   "execution_count": 47,
   "metadata": {
    "collapsed": false
   },
   "outputs": [
    {
     "data": {
      "image/png": "[encoded data removed]",
      "text/plain": [
       "<Figure size 432x288 with 1 Axes>"
      ]
     },
     "metadata": {},
     "output_type": "display_data"
    }
   ],
   "source": [
    "\n",
    "data = {'disease' : ['Hypertendion','Diabetes','Alcohol','Handcap'],\n",
    "        'number_attended': [18029, 6513, 2683, 1676]}\n",
    "\n",
    "new_datat = pd.DataFrame(data, columns=['disease', 'number_attended'])\n",
    "\n",
    "locations =[1,2,3,4]\n",
    "labels = ['Hypertendion','Diabetes','Alcohol','Handcap']\n",
    "plt.bar(locations, new_datat.number_attended, tick_label = labels, color = ( 0.9 , 0.5 , 0.6 , 0.6 ))\n",
    "plt.suptitle('Attendence by disease')\n",
    "plt.xlabel('Disease')\n",
    "plt.ylabel('Number of people Attended')\n",
    "plt.show()"
   ]
  },
  {
   "cell_type": "markdown",
   "metadata": {},
   "source": [
    "### Observations\n",
    "> Hypertension has the most number of people who attended their appointments. <br />\n",
    "> Handcap category had the least number of people who attended their appointments."
   ]
  },
  {
   "cell_type": "markdown",
   "metadata": {},
   "source": [
    "\n"
   ]
  },
  {
   "cell_type": "code",
   "execution_count": 48,
   "metadata": {
    "collapsed": false
   },
   "outputs": [
    {
     "data": {
      "image/png": "[encoded data removed]",
      "text/plain": [
       "<Figure size 432x288 with 1 Axes>"
      ]
     },
     "metadata": {},
     "output_type": "display_data"
    }
   ],
   "source": [
    "# Getting the percentage miss by disease category to know which category missed greate\n",
    "\n",
    "pecentage_miss_hypertension = hyper /sum(hyper,hypert)\n",
    "percentage_miss_diabet = diabet / sum(diabet, diabett)\n",
    "percentage_miss_alcohiol = alcohol /sum(alcohol, alcoholt)\n",
    "percentage_miss_handcap = hand  / sum(hand, handt)\n",
    "\n",
    "data = {'disease' : ['Hypertendion','Diabetes','Alcohol','Handcap'],\n",
    "        'number_missedt': [0.17302 , 0.180033, 0.201488 ,0.179236]}\n",
    "missed_dt = pd.DataFrame(data, columns=['disease','number_missedt'])\n",
    "locations = [1,2,3,4]\n",
    "labels = ['Hypertendion','Diabetes','Alcohol','Handcap']\n",
    "\n",
    "plt.bar(locations,missed_dt.number_missedt, tick_label = labels)\n",
    "plt.suptitle('Missed appointment by disease')\n",
    "plt.xlabel('Disease')\n",
    "plt.ylabel('Number of people missed')\n",
    "\n",
    "plt.show()\n",
    "    \n",
    "      \n",
    "                  "
   ]
  },
  {
   "cell_type": "markdown",
   "metadata": {
    "collapsed": true
   },
   "source": [
    "### Observations\n",
    ">Patients with alcoholism miss their appointments most followed by handcaped patients.<br />\n",
    ">Hypertension has the least missed appointments\n"
   ]
  },
  {
   "cell_type": "markdown",
   "metadata": {},
   "source": [
    "<a id='conclusions'></a>\n",
    "## Conclusions\n",
    "\n",
    "> 79.8% of the patients attended their appointment. <br />\n",
    "> 20.2% patients missed their appointments. <br />\n",
    "> The data is only in three quarters. <br />\n",
    "> The data is distributed in three quarters. <br />\n",
    "> There are no patients who missed their appointments within the first quarter.<br />\n",
    "> Over 20,000 patients missed their appointments in the last quarter.  <br />\n",
    "> The number of missed appointments increased in the month of december 2015. <br />\n",
    "> The number of missed appointments increased sharply between feb 2016 and march 2016. <br />\n",
    "> March 2016 has the highest number of missed appointments. <br />\n",
    "> There is a sharp decline in the number of patients who missed between  April 2016, and june 2016. <br />\n",
    "> Over time the percentage of male patients missing appointments has been exceeding that of the Female patients. <br />\n",
    "> The percentange of female patients who missed is greater than that of their male counter parts.\n",
    "> Patients with alcoholism miss their appointments most followed by handcaped patients. <br />\n",
    "> Hypertension has the least missed appointments. <br />  \n",
    "###  Limitations\n",
    "> There is no data for people who missed appointments in the first quarter. <br />\n",
    "> Most of the data is concetrated in only two quarters which makes it insufficient to know the exact factors which could influence patient attendence. <br />\n",
    "\n",
    "\n",
    "  \n",
    "\n",
    "\n"
   ]
  },
  {
   "cell_type": "code",
   "execution_count": 49,
   "metadata": {
    "collapsed": false
   },
   "outputs": [
    {
     "data": {
      "text/plain": [
       "0"
      ]
     },
     "execution_count": 49,
     "metadata": {},
     "output_type": "execute_result"
    }
   ],
   "source": [
    "from subprocess import call\n",
    "call(['python', '-m', 'nbconvert', 'Investigate_a_Dataset.ipynb'])"
   ]
  }
 ],
 "metadata": {
  "kernelspec": {
   "display_name": "Python 3",
   "language": "python",
   "name": "python3"
  },
  "language_info": {
   "codemirror_mode": {
    "name": "ipython",
    "version": 3
   },
   "file_extension": ".py",
   "mimetype": "text/x-python",
   "name": "python",
   "nbconvert_exporter": "python",
   "pygments_lexer": "ipython3",
   "version": "3.6.10"
  }
 },
 "nbformat": 4,
 "nbformat_minor": 2
}
